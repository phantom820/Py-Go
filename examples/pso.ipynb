{
 "cells": [
  {
   "cell_type": "code",
   "execution_count": 1,
   "metadata": {},
   "outputs": [],
   "source": [
    "from pygo import optimization_problem as op\n",
    "from pygo import global_optimizers as go"
   ]
  },
  {
   "cell_type": "markdown",
   "metadata": {},
   "source": [
    "## Particle Swarm Optimization Examples\n",
    "Here we demonstrate how to use the particle swarm optimization using a number of well known optimization test functions. There are currently 2 variations of particle swarm\n",
    "- pso - the most basic form of particle swarm optimization in which we have constant inertia\n",
    "- adaptive_pso - a variation of the basic pso in which we have adaptive inertia that drops linearly from somme initial value to $0.4$\n",
    "\n",
    "The well knowns used optimization test functions are\n",
    "- Booth function\n",
    "- Matyas funcion\n",
    "- Rosenbrock function (2d)\n",
    "- Mccormick function\n",
    "- Easom function\n",
    "- Bukin function\n",
    "- Drop wave function\n",
    "- Rastrigin function\n",
    "\n",
    "These were adapted from [https://www.sfu.ca/~ssurjano/optimization.html]()"
   ]
  },
  {
   "cell_type": "markdown",
   "metadata": {},
   "source": [
    "### Booth function\n",
    "$$f(\\textbf {x}) = (x_1+2x_2-7)^2+(2x_1+x_2-5)^2$$\n",
    "<b>Input Domain</b>\n",
    "$x_i \\in [-10,10]$ for all $i=1,2$ <br></br>\n",
    "<b> Global Minimum</b> $\\textbf{x}^*=(1,3),f(\\textbf{x}^*)=0$  "
   ]
  },
  {
   "cell_type": "code",
   "execution_count": 3,
   "metadata": {},
   "outputs": [
    {
     "name": "stdout",
     "output_type": "stream",
     "text": [
      "Minimize \n",
      "lambda x:(x[:,0]+2*x[:,1]-7)**2+(2*x[:,0]+x[:,1]-5)**2\n",
      "Subject to\n",
      "-10<= x0 <=10\n",
      "-10<= x1 <=10\n",
      "\n",
      "x* [1.00000623 2.99995721]\n",
      "f(x*) 7.216396704714967e-09\n"
     ]
    }
   ],
   "source": [
    "opp = op.OptimizationProblem('lambda x:(x[:,0]+2*x[:,1]-7)**2+(2*x[:,0]+x[:,1]-5)**2','min',\n",
    "                              [-10,-10],[10,10])\n",
    "global_optimizer = go.GlobalOptimizer()\n",
    "print(opp)\n",
    "x_star,f_star = global_optimizer.pso(opp,w=0.7)\n",
    "print('x*',x_star)\n",
    "print('f(x*)',f_star)"
   ]
  },
  {
   "cell_type": "markdown",
   "metadata": {},
   "source": [
    "### Matyas function\n",
    "$$f(\\textbf {x}) = 0.26(x_1^2+x_2^2)-0.48x_1x_2$$\n",
    "<b>Input Domain</b>\n",
    "$x_i \\in [-10,10]$ for all $i=1,2$ <br></br>\n",
    "<b> Global Minimum</b> $\\textbf{x}^*=(0,0),f(\\textbf{x}^*)=0$  "
   ]
  },
  {
   "cell_type": "code",
   "execution_count": 5,
   "metadata": {},
   "outputs": [
    {
     "name": "stdout",
     "output_type": "stream",
     "text": [
      "Minimize \n",
      "lambda x:0.26*(x[:,0]**2+x[:,1]**2)-0.48*x[:,0]*x[:,1]\n",
      "Subject to\n",
      "-10<= x0 <=10\n",
      "-10<= x1 <=10\n",
      "\n",
      "x* [-7.59038066e-06 -6.61372023e-06]\n",
      "f(x*) 2.2560312225140794e-12\n"
     ]
    }
   ],
   "source": [
    "opp = op.OptimizationProblem('lambda x:0.26*(x[:,0]**2+x[:,1]**2)-0.48*x[:,0]*x[:,1]','min',\n",
    "                              [-10,-10],[10,10])\n",
    "\n",
    "global_optimizer = go.GlobalOptimizer()\n",
    "print(opp)\n",
    "x_star,f_star = global_optimizer.adaptive_pso(opp,N=200)\n",
    "print('x*',x_star)\n",
    "print('f(x*)',f_star)"
   ]
  },
  {
   "cell_type": "markdown",
   "metadata": {},
   "source": [
    "### Rosenbrock function (2d)\n",
    "$$f(\\textbf {x}) = (a-x_1)^2 + b(x_2-x_1^2)^2$$\n",
    "Choose $a=1,b=100$ <br></br>\n",
    "<b>Input Domain</b>\n",
    "$x_i \\in [-5,10]$ for all $i=1,2$ <br></br>\n",
    "<b> Global Minimum</b> $\\textbf{x}^*=(1,1),f(\\textbf{x}^*)=0$ "
   ]
  },
  {
   "cell_type": "code",
   "execution_count": 7,
   "metadata": {},
   "outputs": [
    {
     "name": "stdout",
     "output_type": "stream",
     "text": [
      "Minimize \n",
      "lambda x:(1-x[:,0])**2 + 100*(x[:,1]-x[:,0]**2)**2\n",
      "Subject to\n",
      "-5<= x0 <=10\n",
      "-5<= x1 <=10\n",
      "\n",
      "x* [1.0001536  1.00031533]\n",
      "f(x*) 3.01780765363915e-08\n"
     ]
    }
   ],
   "source": [
    "opp = op.OptimizationProblem('lambda x:(1-x[:,0])**2 + 100*(x[:,1]-x[:,0]**2)**2','min',\n",
    "                              [-5,-5],[10,10])\n",
    "\n",
    "global_optimizer = go.GlobalOptimizer()\n",
    "print(opp)\n",
    "x_star,f_star = global_optimizer.adaptive_pso(opp,w_init=0.99,N=300)\n",
    "print('x*',x_star)\n",
    "print('f(x*)',f_star)"
   ]
  },
  {
   "cell_type": "markdown",
   "metadata": {},
   "source": [
    "### Mccormick function\n",
    "$$f(\\textbf {x}) = sin(x_1+x_2)+(x_1-x_2)^2-1.5x_1+2.5x_2+1$$\n",
    "<b>Input Domain</b>\n",
    "$x_1 \\in [-1.5,4],x_2 \\in [-3,4]$ <br></br>\n",
    "<b> Global Minimum</b> $\\textbf{x}^*=(-0.54719,-1.54719),f(\\textbf{x}^*)=-1.9133$ "
   ]
  },
  {
   "cell_type": "code",
   "execution_count": 8,
   "metadata": {},
   "outputs": [
    {
     "name": "stdout",
     "output_type": "stream",
     "text": [
      "Minimize \n",
      "lambda x:np.sin(x[:,0]+x[:,1])+(x[:,0]-x[:,1])**2-1.5*x[:,0]+2.5*x[:,1]+1\n",
      "Subject to\n",
      "-1.5<= x0 <=4\n",
      "-3.0<= x1 <=4\n",
      "\n",
      "x* [-0.54692755 -1.54664466]\n",
      "f(x*) -1.9132225816959325\n"
     ]
    }
   ],
   "source": [
    "opp = op.OptimizationProblem('lambda x:np.sin(x[:,0]+x[:,1])+(x[:,0]-x[:,1])**2-1.5*x[:,0]+2.5*x[:,1]+1','min',\n",
    "                              [-1.5,-3],[4,4])\n",
    "\n",
    "global_optimizer = go.GlobalOptimizer()\n",
    "print(opp)\n",
    "x_star,f_star = global_optimizer.adaptive_pso(opp,tol=1e-4)\n",
    "print('x*',x_star)\n",
    "print('f(x*)',f_star)"
   ]
  },
  {
   "cell_type": "markdown",
   "metadata": {},
   "source": [
    "### Easom function\n",
    "$$f(\\textbf {x}) = -cos(x_1)cos(x_2)exp(-(x_1-\\pi)^2-(x_2-\\pi)^2)$$\n",
    "<b>Input Domain</b>\n",
    "$x_i \\in [-100,100]$ for all $i=1,2$ <br></br>\n",
    "<b> Global Minimum</b> $\\textbf{x}^*=(\\pi,\\pi),f(\\textbf{x}^*)=-1$ "
   ]
  },
  {
   "cell_type": "code",
   "execution_count": 9,
   "metadata": {},
   "outputs": [
    {
     "name": "stdout",
     "output_type": "stream",
     "text": [
      "Minimize \n",
      "lambda x:-np.cos(x[:,0])*np.cos(x[:,1])*np.exp(-(x[:,0]-np.pi)**2-(x[:,1]-np.pi)**2)\n",
      "Subject to\n",
      "-100<= x0 <=100\n",
      "-100<= x1 <=100\n",
      "\n",
      "x* [3.14161022 3.14161408]\n",
      "f(x*) -0.9999999988485303\n"
     ]
    }
   ],
   "source": [
    "opp = op.OptimizationProblem('lambda x:-np.cos(x[:,0])*np.cos(x[:,1])*np.exp(-(x[:,0]-np.pi)**2-(x[:,1]-np.pi)**2)',\n",
    "                          'min',[-100,-100],[100,100])\n",
    "\n",
    "global_optimizer = go.GlobalOptimizer()\n",
    "print(opp)\n",
    "x_star,f_star = global_optimizer.pso(opp,N=500,tol=1e-4)\n",
    "print('x*',x_star)\n",
    "print('f(x*)',f_star)"
   ]
  },
  {
   "cell_type": "markdown",
   "metadata": {},
   "source": [
    "### Bukin function\n",
    "$$f(\\textbf {x}) = 100\\sqrt{|x_2-0.01x_1^2|}+0.01|x_1+10|$$\n",
    "<b>Input Domain</b>\n",
    "$x_1 \\in [-15,-3],x_2 \\in [-5,3]$ <br></br>\n",
    "<b> Global Minimum</b> $\\textbf{x}^*=(-10,1),f(\\textbf{x}^*)=0$ "
   ]
  },
  {
   "cell_type": "code",
   "execution_count": 10,
   "metadata": {},
   "outputs": [
    {
     "name": "stdout",
     "output_type": "stream",
     "text": [
      "Minimize \n",
      "lambda x:100*np.sqrt(abs(x[:,1]-0.01*x[:,0]**2))+0.01*abs(x[:,0]+10)\n",
      "Subject to\n",
      "-15<= x0 <=-5\n",
      "-3<= x1 <=3\n",
      "\n",
      "Failed to converge after 300 iterations\n",
      "x* [-11.87140888   1.40930389]\n",
      "f(x*) 0.0820006923565261\n"
     ]
    }
   ],
   "source": [
    "opp = op.OptimizationProblem('lambda x:100*np.sqrt(abs(x[:,1]-0.01*x[:,0]**2))+0.01*abs(x[:,0]+10)',\n",
    "                          'min',[-15,-3],[-5,3])\n",
    "\n",
    "global_optimizer = go.GlobalOptimizer()\n",
    "print(opp)\n",
    "x_star,f_star = global_optimizer.adaptive_pso(opp)\n",
    "print('x*',x_star)\n",
    "print('f(x*)',f_star)"
   ]
  },
  {
   "cell_type": "markdown",
   "metadata": {},
   "source": [
    "### Drop Wave function\n",
    "$$f(\\textbf {x}) = -\\frac{1+cos(12\\sqrt{x_1^2+x_2^2})}{0.5(x_1^2+x_2^2)+2}$$\n",
    "<b>Input Domain</b>\n",
    "$x_i \\in [-5.12,5.12]$ for all $i=1,2$ <br></br>\n",
    "<b> Global Minimum</b> $\\textbf{x}^*=(0,0),f(\\textbf{x}^*)=-1$ "
   ]
  },
  {
   "cell_type": "code",
   "execution_count": 11,
   "metadata": {},
   "outputs": [
    {
     "name": "stdout",
     "output_type": "stream",
     "text": [
      "Minimize \n",
      "lambda x:-1*(1+np.cos(12*(np.sqrt(x[:,0]**2 + x[:,1]**2))))/(0.5*(x[:,0]**2+x[:,1]**2)+2)\n",
      "Subject to\n",
      "-5.12<= x0 <=5.12\n",
      "-5.12<= x1 <=5.12\n",
      "\n",
      "x* [-7.16447405e-06 -3.03224269e-06]\n",
      "f(x*) -0.9999999978059984\n"
     ]
    }
   ],
   "source": [
    "opp = op.OptimizationProblem('lambda x:-1*(1+np.cos(12*(np.sqrt(x[:,0]**2 + x[:,1]**2))))/(0.5*(x[:,0]**2+x[:,1]**2)+2)',\n",
    "                          'min',[-5.12,-5.12],[5.12,5.12])\n",
    "\n",
    "global_optimizer = go.GlobalOptimizer()\n",
    "print(opp)\n",
    "x_star,f_star = global_optimizer.adaptive_pso(opp)\n",
    "print('x*',x_star)\n",
    "print('f(x*)',f_star)"
   ]
  },
  {
   "cell_type": "markdown",
   "metadata": {},
   "source": [
    "### Rastrigin function\n",
    "$$f(\\textbf {x}) = 10d + \\sum_{i=1}^{d}{[x_i^2-10cos(2\\pi x_i]}$$\n",
    "Choose $d=2$ <br></br>\n",
    "<b>Input Domain</b>\n",
    "$x_i \\in [-5.12,5.12]$ for all $i=1,2$ <br></br>\n",
    "<b> Global Minimum</b> $\\textbf{x}^*=(0,0),f(\\textbf{x}^*)=0$"
   ]
  },
  {
   "cell_type": "code",
   "execution_count": 13,
   "metadata": {},
   "outputs": [
    {
     "name": "stdout",
     "output_type": "stream",
     "text": [
      "Minimize \n",
      "lambda x:10*2+np.sum(x**2-10*np.cos(2*np.pi*x),axis=1)\n",
      "Subject to\n",
      "-5.12<= x0 <=5.12\n",
      "-5.12<= x1 <=5.12\n",
      "\n",
      "x* [-2.57659946e-05 -7.13295985e-06]\n",
      "f(x*) 1.4180383800521668e-07\n"
     ]
    }
   ],
   "source": [
    "opp = op.OptimizationProblem('lambda x:10*2+np.sum(x**2-10*np.cos(2*np.pi*x),axis=1)',\n",
    "                          'min',[-5.12,-5.12],[5.12,5.12])\n",
    "\n",
    "global_optimizer = go.GlobalOptimizer()\n",
    "print(opp)\n",
    "x_star,f_star = global_optimizer.adaptive_pso(opp)\n",
    "print('x*',x_star)\n",
    "print('f(x*)',f_star)"
   ]
  }
 ],
 "metadata": {
  "kernelspec": {
   "display_name": "Python 3",
   "language": "python",
   "name": "python3"
  },
  "language_info": {
   "codemirror_mode": {
    "name": "ipython",
    "version": 3
   },
   "file_extension": ".py",
   "mimetype": "text/x-python",
   "name": "python",
   "nbconvert_exporter": "python",
   "pygments_lexer": "ipython3",
   "version": "3.8.3"
  }
 },
 "nbformat": 4,
 "nbformat_minor": 4
}
