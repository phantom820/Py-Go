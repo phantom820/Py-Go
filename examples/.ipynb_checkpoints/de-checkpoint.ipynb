{
 "cells": [
  {
   "cell_type": "code",
   "execution_count": 61,
   "metadata": {},
   "outputs": [],
   "source": [
    "import numpy as np\n",
    "from pygo import optimization_problem as op\n",
    "from pygo import global_optimizers as go"
   ]
  },
  {
   "cell_type": "code",
   "execution_count": 24,
   "metadata": {},
   "outputs": [
    {
     "data": {
      "text/plain": [
       "array([2.19890295, 4.74132364, 1.64976276])"
      ]
     },
     "execution_count": 24,
     "metadata": {},
     "output_type": "execute_result"
    }
   ],
   "source": [
    "np.random.uniform(0,10,3)"
   ]
  },
  {
   "cell_type": "code",
   "execution_count": 75,
   "metadata": {},
   "outputs": [],
   "source": [
    "def differential_evolution(optimization_problem,N=100,F = 0.8, CR = 0.9, max_iter = 300, tol=1e-4):\n",
    "    \n",
    "    ''' differential evolution \n",
    "        optimization_problem (OptimizationProblem) optimization problem object with objective function and\n",
    "        constraints\n",
    "        N (int) : number of candidate solutions\n",
    "        F (float) range(0,2): differential weight default 0.8\n",
    "        CR (float) range(0,1): crossover probability\n",
    "        max_iter (int): maximum number of iterations to run the algorithm for default = 300\n",
    "        tol (float) : used as convergence criteria check if we have not converged to a solution  1e-4\n",
    "        checks standard deviation\n",
    "    \n",
    "    '''\n",
    "    \n",
    "    if F<0 or F>2:\n",
    "        raise Exception('F must be in range [0,2] (differential weight)')\n",
    "        \n",
    "    if CR<0 or CR>1:\n",
    "        raise Exception('CR muste be in range [0,1]')\n",
    "        \n",
    "    n = len(optimization_problem.lower_constraints)\n",
    "    l = optimization_problem.lower_constraints\n",
    "    u = optimization_problem.upper_constraints\n",
    "    f = optimization_problem.objective_function\n",
    "    mode = optimization_problem.mode\n",
    "\n",
    "    \n",
    "    if mode == 'min':\n",
    "        p = np.zeros((N,n+1))\n",
    "        p[:,:n] = (l)+(u-l)*np.random.uniform(0,1,(N,n))\n",
    "        p[:,n] = f(p[:,:n])\n",
    "        \n",
    "        for g in range(max_iter):\n",
    "            y = np.zeros((N,n+1))\n",
    "            for i in range(N):\n",
    "                # generate candidates\n",
    "                while True:\n",
    "                    c = np.random.uniform(0,N,3).astype(int)    \n",
    "                    if len(np.unique(c))==3 and i not in c:\n",
    "                        break\n",
    "                # compute the agent's new position\n",
    "                a = p[c[0],:n]\n",
    "                b = p[c[1],:n]\n",
    "                c = p[c[2],:n]\n",
    "\n",
    "                R = int(np.random.uniform(0,n))\n",
    "                r = np.random.uniform(0,1,n)\n",
    "                idl = np.where(r<CR)[0]\n",
    "                idu = np.where(r>CR)[0]\n",
    "                y[i,idl] = a[idl]+F*(b[idl]-a[idl])\n",
    "                y[i,idu] = p[i,idu]\n",
    "                y[i,R] = a[R]+F*(b[R]-a[R]) \n",
    "\n",
    "            idl = np.where((y[:,:n]<l))[0]\n",
    "            idu = np.where((y[:,:n]>u))[0]\n",
    "\n",
    "            # maintain feasibility\n",
    "            if len(idl)>0:\n",
    "                y[idl,:n] = (l)+(u-l)*np.random.uniform(0,1,(len(idl),n))\n",
    "\n",
    "            if len(idu)>0:\n",
    "                y[idu,:n] = (l)+(u-l)*np.random.uniform(0,1,(len(idu),n))\n",
    "\n",
    "            # compute new function values\n",
    "            y[:,n] =f(y[:,:n])\n",
    "            idx = (y[:,n]<=p[:,n])\n",
    "            p[idx] = y[idx]\n",
    "            \n",
    "            if np.std(p[:,-1])<tol:\n",
    "                p = p[np.argsort(p[:,-1])]\n",
    "                return p[0,:n],p[0,-1]\n",
    "        print('Failed to converger after',max_iter,'iterations')\n",
    "        p = p[np.argsort(p[:,-1])]\n",
    "        return p[0,:n],p[0,-1]\n",
    "    \n",
    "    # maximization problem\n",
    "    elif mode == 'max':\n",
    "        p = np.zeros((N,n+1))\n",
    "        p[:,:n] = (l)+(u-l)*np.random.uniform(0,1,(N,n))\n",
    "        p[:,n] = f(p[:,:n])\n",
    "        \n",
    "        for g in range(max_iter):\n",
    "            y = np.zeros((N,n+1))\n",
    "            for i in range(N):\n",
    "                # generate candidates\n",
    "                while True:\n",
    "                    c = np.random.uniform(0,N,3).astype(int)    \n",
    "                    if len(np.unique(c))==3 and i not in c:\n",
    "                        break\n",
    "                # compute the agent's new position\n",
    "                a = p[c[0],:n]\n",
    "                b = p[c[1],:n]\n",
    "                c = p[c[2],:n]\n",
    "\n",
    "                R = int(np.random.uniform(0,n))\n",
    "                r = np.random.uniform(0,1,n)\n",
    "                idl = np.where(r<CR)[0]\n",
    "                idu = np.where(r>CR)[0]\n",
    "                y[i,idl] = a[idl]+F*(b[idl]-a[idl])\n",
    "                y[i,idu] = p[i,idu]\n",
    "                y[i,R] = a[R]+F*(b[R]-a[R]) \n",
    "\n",
    "            idl = np.where((y[:,:n]<l))[0]\n",
    "            idu = np.where((y[:,:n]>u))[0]\n",
    "\n",
    "            # maintain feasibility\n",
    "            if len(idl)>0:\n",
    "                y[idl,:n] = (l)+(u-l)*np.random.uniform(0,1,(len(idl),n))\n",
    "\n",
    "            if len(idu)>0:\n",
    "                y[idu,:n] = (l)+(u-l)*np.random.uniform(0,1,(len(idu),n))\n",
    "\n",
    "            # compute new function values\n",
    "            y[:,n] =f(y[:,:n])\n",
    "            idx = (y[:,n]>=p[:,n])\n",
    "            p[idx] = y[idx]\n",
    "            \n",
    "            if np.std(p[:,-1])<tol:\n",
    "                p = p[np.argsort(p[:,-1])]\n",
    "                return p[-1,:n],p[-1,-1]\n",
    "            \n",
    "        print('Failed to converger after',max_iter,'iterations')\n",
    "        p = p[np.argsort(p[:,-1])]\n",
    "        return p[-1,:n],p[-1,-1]\n",
    "    "
   ]
  },
  {
   "cell_type": "code",
   "execution_count": 76,
   "metadata": {},
   "outputs": [
    {
     "name": "stdout",
     "output_type": "stream",
     "text": [
      "Maximize \n",
      "lambda x:x[:,0]**2\n",
      "Subject to\n",
      "0<= x <=3\n",
      "x* [2.97328613]\n",
      "f(x*) 8.840430429265066\n"
     ]
    }
   ],
   "source": [
    "opp = op.OptimizationProblem('lambda x:x[:,0]**2','max',\n",
    "                              [0],[3])\n",
    "global_optimizer = go.GlobalOptimizer()\n",
    "print(opp)\n",
    "x_star,f_star = differential_evolution(opp)\n",
    "print('x*',x_star)\n",
    "print('f(x*)',f_star)"
   ]
  },
  {
   "cell_type": "code",
   "execution_count": 5,
   "metadata": {},
   "outputs": [
    {
     "name": "stdout",
     "output_type": "stream",
     "text": [
      "[[-2.10917968  1.82268065]\n",
      " [ 0.60736423 -0.33121353]]\n",
      "\n",
      "[0.14558491 0.23813408]\n"
     ]
    }
   ],
   "source": [
    "x = np.random.randn(2,2)\n",
    "theta = np.random.uniform(0,1,2)\n",
    "print(x)\n",
    "print()\n",
    "print(theta)"
   ]
  },
  {
   "cell_type": "code",
   "execution_count": 8,
   "metadata": {},
   "outputs": [
    {
     "data": {
      "text/plain": [
       "array([0.12697764, 0.00954984])"
      ]
     },
     "execution_count": 8,
     "metadata": {},
     "output_type": "execute_result"
    }
   ],
   "source": [
    "np.sum(x*theta,axis=1)"
   ]
  },
  {
   "cell_type": "code",
   "execution_count": 6,
   "metadata": {},
   "outputs": [
    {
     "data": {
      "text/plain": [
       "array([0.12697764, 0.00954984])"
      ]
     },
     "execution_count": 6,
     "metadata": {},
     "output_type": "execute_result"
    }
   ],
   "source": [
    "np.dot(x,theta)"
   ]
  },
  {
   "cell_type": "code",
   "execution_count": 14,
   "metadata": {},
   "outputs": [],
   "source": [
    "def cost(x,theta):\n",
    "    return np.exp(-np.dot(x,theta))"
   ]
  },
  {
   "cell_type": "code",
   "execution_count": 17,
   "metadata": {},
   "outputs": [],
   "source": [
    "f = eval('lambda theta,x=x: cost(x,theta)')"
   ]
  },
  {
   "cell_type": "code",
   "execution_count": 18,
   "metadata": {},
   "outputs": [
    {
     "data": {
      "text/plain": [
       "array([0.88075336, 0.99049562])"
      ]
     },
     "execution_count": 18,
     "metadata": {},
     "output_type": "execute_result"
    }
   ],
   "source": [
    "f(theta)"
   ]
  },
  {
   "cell_type": "code",
   "execution_count": null,
   "metadata": {},
   "outputs": [],
   "source": []
  }
 ],
 "metadata": {
  "kernelspec": {
   "display_name": "Python 3",
   "language": "python",
   "name": "python3"
  },
  "language_info": {
   "codemirror_mode": {
    "name": "ipython",
    "version": 3
   },
   "file_extension": ".py",
   "mimetype": "text/x-python",
   "name": "python",
   "nbconvert_exporter": "python",
   "pygments_lexer": "ipython3",
   "version": "3.8.3"
  }
 },
 "nbformat": 4,
 "nbformat_minor": 4
}
