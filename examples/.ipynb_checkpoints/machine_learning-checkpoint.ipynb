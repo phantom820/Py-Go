{
 "cells": [
  {
   "cell_type": "code",
   "execution_count": 1,
   "metadata": {},
   "outputs": [],
   "source": [
    "from pygo import optimization_problem as op\n",
    "from pygo import optimization_problem as op\n",
    "from pygo import global_optimizers as go\n",
    "import matplotlib.pyplot as plt\n",
    "import numpy as np\n",
    "from sklearn.datasets import make_classification\n",
    "from sklearn.model_selection import train_test_split"
   ]
  },
  {
   "cell_type": "code",
   "execution_count": 2,
   "metadata": {},
   "outputs": [],
   "source": [
    "X, Y = make_classification(3000,n_features=100, n_redundant=0, n_informative=1,n_clusters_per_class=1)"
   ]
  },
  {
   "cell_type": "code",
   "execution_count": 3,
   "metadata": {},
   "outputs": [],
   "source": [
    "X_train, X_test, y_train, y_test = train_test_split( X, Y, test_size=0.2, random_state=42)"
   ]
  },
  {
   "cell_type": "code",
   "execution_count": 51,
   "metadata": {},
   "outputs": [],
   "source": [
    "class LogisticRegression:\n",
    "    def __init__(self,seed):\n",
    "        np.random.seed(seed)\n",
    "        \n",
    "    def sigmoid(self,X,theta):\n",
    "        z = X@theta\n",
    "        return 1/(1+np.exp(-z))\n",
    "    \n",
    "    def cost_function(self,weights):\n",
    "        X = self.X_train\n",
    "        y = self.y_train\n",
    "        lambda_ = self.lambda_\n",
    "        h = self.sigmoid(X,weights.T)\n",
    "        y = y[:,None]\n",
    "        entropy=-y*np.log(h+1e-5)-(1-y)*np.log(1-h+1e-5)+0.5*lambda_*(weights**2).sum(axis=1)\n",
    "        J = np.mean(entropy,axis=0)\n",
    "        return J\n",
    "    \n",
    "    def fit(self,X,y,optimizer={}):\n",
    "        self.X_train = X.copy()\n",
    "        self.y_train = y.copy()\n",
    "        self.d = len(X[0])\n",
    "       \n",
    "        global_optimizer = go.GlobalOptimizer()\n",
    "        p = op.CostProblem(self.d,self.cost_function)\n",
    "        \n",
    "        # default params all algorithms\n",
    "        w = 0.6\n",
    "        w_init = 0.9\n",
    "        N = 30\n",
    "        max_iter = 200\n",
    "        tol = 1e-4\n",
    "        trajectory = True\n",
    "        mutation = True\n",
    "        F = 2\n",
    "        CR = 0.7\n",
    "        self.lambda_ = 0\n",
    "        \n",
    "        algo = 'pso'\n",
    "        \n",
    "        if 'algo' in optimizer:\n",
    "            algo = optimizer['algo']\n",
    "            \n",
    "        if 'w' in optimizer:\n",
    "            w = optimizer['w']\n",
    "\n",
    "        if 'w_init' in optimizer:\n",
    "            w_init = optimizer['w_init']\n",
    "\n",
    "        if 'N' in optimizer:\n",
    "            N = optimizer['N']\n",
    "\n",
    "        if 'max_iter' in optimizer:\n",
    "            max_iter = optimizer['max_iter']\n",
    "\n",
    "        if 'tol' in optimizer:\n",
    "            tol = optimizer['tol']\n",
    "\n",
    "        if 'trajectory' in optimizer:\n",
    "            trajectory = optimizer['trajectory']\n",
    "\n",
    "        if 'mutation' in optimizer:\n",
    "            mutation = optimizer['mutation']\n",
    "\n",
    "        if 'F' in optimizer:\n",
    "            F = optimizer['F']\n",
    "\n",
    "        if 'CR' in optimizer:\n",
    "            CR = optimizer['CR']\n",
    "        \n",
    "        if 'lambda_' in optimizer:\n",
    "            self.lambda_ = optimizer['lambda_']\n",
    "            \n",
    "        if algo == 'pso':\n",
    "            x_star,J_star, x_path,y_path = global_optimizer.pso(p,trajectory=True,max_iter=max_iter,\n",
    "                                          N=N,tol=tol,w=w)\n",
    "            \n",
    "        elif algo == 'apso':\n",
    "            x_star,J_star, x_path,y_path = global_optimizer.adaptive_pso(p,trajectory=True,max_iter=max_iter,\n",
    "                                          N=N,tol=tol,w_init=w_init)\n",
    "            \n",
    "        elif algo == 'de':\n",
    "            x_star,J_star, x_path,y_path = global_optimizer.de(p,trajectory=True,max_iter=max_iter,\n",
    "                                          N=N,tol=tol,F=F,CR=CR)\n",
    "        \n",
    "        elif algo == 'ga':\n",
    "            x_star,J_star, x_path,y_path = global_optimizer.ga(p,trajectory=True,max_iter=max_iter,\n",
    "                                          N=N,tol=tol,mutation=mutation)\n",
    "            \n",
    "        self.weights = x_star\n",
    "        self.cost_function_values = y_path\n",
    "        \n",
    "    def predict(self,X):\n",
    "        theta = self.weights\n",
    "        y_pred = self.sigmoid(X,theta)\n",
    "        y_pred[y_pred>0.5] = 1\n",
    "        y_pred[y_pred<=0.5] = 0\n",
    "        return y_pred.astype(int)\n",
    "    \n",
    "    def score(self,X,y):\n",
    "        y_pred = self.predict(X)\n",
    "        return 100*(np.count_nonzero(y_pred==y)/len(y))\n",
    "        \n",
    "        "
   ]
  },
  {
   "cell_type": "code",
   "execution_count": 52,
   "metadata": {},
   "outputs": [
    {
     "name": "stderr",
     "output_type": "stream",
     "text": [
      "/home/phantom/anaconda3/lib/python3.7/site-packages/ipykernel_launcher.py:7: RuntimeWarning: overflow encountered in exp\n",
      "  import sys\n"
     ]
    },
    {
     "name": "stdout",
     "output_type": "stream",
     "text": [
      "Failed to converge after 200 iterations\n"
     ]
    }
   ],
   "source": [
    "lr =LogisticRegression(2)\n",
    "lr.fit(X_train,y_train,optimizer={'algo':'apso','N':50,'mutation':False})\n",
    "score = lr.score(X_train,y_train)"
   ]
  },
  {
   "cell_type": "code",
   "execution_count": 53,
   "metadata": {},
   "outputs": [
    {
     "data": {
      "text/plain": [
       "91.125"
      ]
     },
     "execution_count": 53,
     "metadata": {},
     "output_type": "execute_result"
    }
   ],
   "source": [
    "score"
   ]
  },
  {
   "cell_type": "code",
   "execution_count": null,
   "metadata": {},
   "outputs": [],
   "source": [
    "def sigmoid(X,theta):\n",
    "    z = X@theta\n",
    "    return 1/(1+np.exp(-z))\n",
    "\n",
    "def cost_function(weights,X=X_train,y=y_train):\n",
    "    h = sigmoid(X,weights.T)\n",
    "    y = y[:,None]\n",
    "    entropy=-y*np.log(h+1e-5)-(1-y)*np.log(1-h+1e-5)\n",
    "    J = np.mean(entropy,axis=0)\n",
    "    return J"
   ]
  },
  {
   "cell_type": "code",
   "execution_count": null,
   "metadata": {},
   "outputs": [],
   "source": [
    "p = op.CostProblem(100,cost_function)"
   ]
  },
  {
   "cell_type": "code",
   "execution_count": null,
   "metadata": {},
   "outputs": [],
   "source": [
    "global_optimizer = go.GlobalOptimizer()\n",
    "x_star,f_star, x_path,y_path = global_optimizer.de(p,trajectory=True,max_iter=300,N=30,tol=1e-5,F=2,CR=0.7)\n",
    "print('x*',x_star)\n",
    "print('f(x*)',f_star)\n",
    "x = np.arange(len(x_path))\n",
    "plt.plot(x,y_path,marker='o')\n",
    "plt.grid()"
   ]
  },
  {
   "cell_type": "code",
   "execution_count": null,
   "metadata": {},
   "outputs": [],
   "source": [
    "def fit(theta,X):\n",
    "    y_pred = sigmoid(X,theta)\n",
    "    y_pred[y_pred>0.5] = 1\n",
    "    y_pred[y_pred<=0.5] = 0\n",
    "    return y_pred.astype(int)\n",
    "y_train_pred = fit(x_star,X_train)\n",
    "print(np.count_nonzero(y_train_pred==y_train)/len(y_train))"
   ]
  },
  {
   "cell_type": "code",
   "execution_count": null,
   "metadata": {},
   "outputs": [],
   "source": []
  }
 ],
 "metadata": {
  "kernelspec": {
   "display_name": "Python 3",
   "language": "python",
   "name": "python3"
  },
  "language_info": {
   "codemirror_mode": {
    "name": "ipython",
    "version": 3
   },
   "file_extension": ".py",
   "mimetype": "text/x-python",
   "name": "python",
   "nbconvert_exporter": "python",
   "pygments_lexer": "ipython3",
   "version": "3.7.7"
  }
 },
 "nbformat": 4,
 "nbformat_minor": 4
}
