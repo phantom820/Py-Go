{
 "cells": [
  {
   "cell_type": "code",
   "execution_count": 5,
   "metadata": {},
   "outputs": [],
   "source": [
    "from pygo import optimization_problem as op\n",
    "from pygo import optimization_problem as op\n",
    "from pygo import global_optimizers as go\n",
    "import matplotlib.pyplot as plt\n",
    "import numpy as np\n",
    "from sklearn.datasets import make_classification\n",
    "from sklearn.model_selection import train_test_split\n",
    "import models"
   ]
  },
  {
   "cell_type": "markdown",
   "metadata": {},
   "source": [
    "### Make Classification data"
   ]
  },
  {
   "cell_type": "code",
   "execution_count": 6,
   "metadata": {},
   "outputs": [],
   "source": [
    "X, Y = make_classification(3000,n_features=100, n_redundant=0, n_informative=1,n_clusters_per_class=1)"
   ]
  },
  {
   "cell_type": "code",
   "execution_count": 7,
   "metadata": {},
   "outputs": [],
   "source": [
    "X_train, X_test, y_train, y_test = train_test_split( X, Y, test_size=0.2, random_state=42)"
   ]
  },
  {
   "cell_type": "markdown",
   "metadata": {},
   "source": [
    "### Logistic Regression (pso optimizer)"
   ]
  },
  {
   "cell_type": "code",
   "execution_count": 19,
   "metadata": {},
   "outputs": [
    {
     "name": "stdout",
     "output_type": "stream",
     "text": [
      "Failed to converge after 200 iterations\n",
      "Training score 95.875\n",
      "Testing score 95.16666666666667\n"
     ]
    }
   ],
   "source": [
    "lr = models.LogisticRegression(2)\n",
    "lr.fit(X_train,y_train,optimizer={'algo':'pso','N':50,'w':0.8})\n",
    "training_score = lr.score(X_train,y_train)\n",
    "testing_score = lr.score(X_test,y_test)\n",
    "print(\"Training score\",training_score)\n",
    "print(\"Testing score\",testing_score)"
   ]
  },
  {
   "cell_type": "markdown",
   "metadata": {},
   "source": [
    "### Logistic Regression (adaptive_pso)"
   ]
  },
  {
   "cell_type": "code",
   "execution_count": 25,
   "metadata": {},
   "outputs": [
    {
     "name": "stdout",
     "output_type": "stream",
     "text": [
      "Failed to converge after 200 iterations\n",
      "Training score 96.33333333333334\n",
      "Testing score 95.0\n"
     ]
    }
   ],
   "source": [
    "lr = models.LogisticRegression(2)\n",
    "lr.fit(X_train,y_train,optimizer={'algo':'apso','N':25,'w_init':0.9})\n",
    "training_score = lr.score(X_train,y_train)\n",
    "testing_score = lr.score(X_test,y_test)\n",
    "print(\"Training score\",training_score)\n",
    "print(\"Testing score\",testing_score)"
   ]
  },
  {
   "cell_type": "markdown",
   "metadata": {},
   "source": [
    "### Logistic Regression (Genetic algorithm)"
   ]
  },
  {
   "cell_type": "code",
   "execution_count": 30,
   "metadata": {},
   "outputs": [
    {
     "name": "stdout",
     "output_type": "stream",
     "text": [
      "Failed to converge after 300 iterations\n",
      "Training score 93.5\n",
      "Testing score 90.83333333333333\n"
     ]
    }
   ],
   "source": [
    "lr = models.LogisticRegression(2)\n",
    "lr.fit(X_train,y_train,optimizer={'algo':'ga','N':65,'mutation':False,'max_iter':300,})\n",
    "training_score = lr.score(X_train,y_train)\n",
    "testing_score = lr.score(X_test,y_test)\n",
    "print(\"Training score\",training_score)\n",
    "print(\"Testing score\",testing_score)"
   ]
  },
  {
   "cell_type": "markdown",
   "metadata": {},
   "source": [
    "### Differential Evolution"
   ]
  },
  {
   "cell_type": "code",
   "execution_count": 31,
   "metadata": {},
   "outputs": [
    {
     "name": "stdout",
     "output_type": "stream",
     "text": [
      "Failed to converger after 200 iterations\n",
      "Training score 52.583333333333336\n",
      "Testing score 49.166666666666664\n"
     ]
    }
   ],
   "source": [
    "lr = models.LogisticRegression(2)\n",
    "lr.fit(X_train,y_train,optimizer={'algo':'de','N':65,'F':2,'CR':0.7})\n",
    "training_score = lr.score(X_train,y_train)\n",
    "testing_score = lr.score(X_test,y_test)\n",
    "print(\"Training score\",training_score)\n",
    "print(\"Testing score\",testing_score)"
   ]
  }
 ],
 "metadata": {
  "kernelspec": {
   "display_name": "Python 3",
   "language": "python",
   "name": "python3"
  },
  "language_info": {
   "codemirror_mode": {
    "name": "ipython",
    "version": 3
   },
   "file_extension": ".py",
   "mimetype": "text/x-python",
   "name": "python",
   "nbconvert_exporter": "python",
   "pygments_lexer": "ipython3",
   "version": "3.7.7"
  }
 },
 "nbformat": 4,
 "nbformat_minor": 4
}
