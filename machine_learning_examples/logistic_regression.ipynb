{
 "cells": [
  {
   "cell_type": "code",
   "execution_count": 1,
   "metadata": {},
   "outputs": [],
   "source": [
    "from pygo import optimization_problem as op\n",
    "from pygo import optimization_problem as op\n",
    "from pygo import global_optimizers as go\n",
    "import matplotlib.pyplot as plt\n",
    "import numpy as np\n",
    "from sklearn.datasets import make_classification\n",
    "from sklearn.model_selection import train_test_split\n",
    "import models"
   ]
  },
  {
   "cell_type": "code",
   "execution_count": 2,
   "metadata": {},
   "outputs": [
    {
     "data": {
      "text/plain": [
       "(array([9.99739898]), 99.94798643383459)"
      ]
     },
     "execution_count": 2,
     "metadata": {},
     "output_type": "execute_result"
    }
   ],
   "source": [
    "p = op.OptimizationProblem('max',lambda x:(x**2).ravel(),[0],[10],True)\n",
    "g = go.GlobalOptimizer()\n",
    "x,y = g.adaptive_pso(p)\n",
    "x,y"
   ]
  },
  {
   "cell_type": "markdown",
   "metadata": {},
   "source": [
    "### Make Classification data"
   ]
  },
  {
   "cell_type": "code",
   "execution_count": 3,
   "metadata": {},
   "outputs": [],
   "source": [
    "X, Y = make_classification(3000,n_features=100, n_redundant=0, n_informative=1,n_clusters_per_class=1)"
   ]
  },
  {
   "cell_type": "code",
   "execution_count": 4,
   "metadata": {},
   "outputs": [],
   "source": [
    "X_train, X_test, y_train, y_test = train_test_split( X, Y, test_size=0.2, random_state=42)"
   ]
  },
  {
   "cell_type": "markdown",
   "metadata": {},
   "source": [
    "### Implementation outline\n",
    "Follows any other regular implementation of logistic regression just the gradient descent optimization part is replaced by global optimization techniques. See https://github.com/phantom820/Py-Go/blob/master/machine_learning_examples/models.py"
   ]
  },
  {
   "cell_type": "markdown",
   "metadata": {},
   "source": [
    "### Logistic Regression (pso optimizer)"
   ]
  },
  {
   "cell_type": "code",
   "execution_count": 5,
   "metadata": {},
   "outputs": [
    {
     "name": "stderr",
     "output_type": "stream",
     "text": [
      "/home/phantom/Documents/projects/Py-Go/machine_learning_examples/models.py:11: RuntimeWarning: overflow encountered in exp\n",
      "  return 1/(1+np.exp(-z))\n"
     ]
    },
    {
     "name": "stdout",
     "output_type": "stream",
     "text": [
      "Failed to converge after 200 iterations\n",
      "Training score 98.41666666666666\n",
      "Testing score 97.0\n"
     ]
    },
    {
     "data": {
      "text/plain": [
       "[<matplotlib.lines.Line2D at 0x7ff2aadbf5e0>]"
      ]
     },
     "execution_count": 5,
     "metadata": {},
     "output_type": "execute_result"
    },
    {
     "data": {
      "image/png": "[encoded data removed]",
      "text/plain": [
       "<Figure size 864x432 with 1 Axes>"
      ]
     },
     "metadata": {
      "needs_background": "light"
     },
     "output_type": "display_data"
    }
   ],
   "source": [
    "lr = models.LogisticRegression(2)\n",
    "lr.fit(X_train,y_train,optimizer={'algo':'pso','N':30,'w':0.6})\n",
    "training_score = lr.score(X_train,y_train)\n",
    "J = lr.cost_function_values\n",
    "testing_score = lr.score(X_test,y_test)\n",
    "print(\"Training score\",training_score)\n",
    "print(\"Testing score\",testing_score)\n",
    "plt.figure(figsize=(12,6))\n",
    "plt.grid()\n",
    "plt.ylabel('Cost function')\n",
    "plt.xlabel('Iteration #')\n",
    "plt.plot(np.arange(len(J)),J,marker='o')"
   ]
  },
  {
   "cell_type": "markdown",
   "metadata": {},
   "source": [
    "### Logistic Regression (adaptive_pso)"
   ]
  },
  {
   "cell_type": "code",
   "execution_count": null,
   "metadata": {},
   "outputs": [],
   "source": [
    "lr = models.LogisticRegression(2)\n",
    "lr.fit(X_train,y_train,optimizer={'algo':'apso','N':25,'w_init':0.9})\n",
    "training_score = lr.score(X_train,y_train)\n",
    "J = lr.cost_function_values\n",
    "testing_score = lr.score(X_test,y_test)\n",
    "print(\"Training score\",training_score)\n",
    "print(\"Testing score\",testing_score)\n",
    "plt.figure(figsize=(12,6))\n",
    "plt.grid()\n",
    "plt.ylabel('Cost function')\n",
    "plt.xlabel('Iteration #')\n",
    "plt.plot(np.arange(len(J)),J,marker='o')"
   ]
  },
  {
   "cell_type": "markdown",
   "metadata": {},
   "source": [
    "### Logistic Regression (Genetic algorithm)"
   ]
  },
  {
   "cell_type": "code",
   "execution_count": null,
   "metadata": {},
   "outputs": [],
   "source": [
    "lr = models.LogisticRegression(2)\n",
    "lr.fit(X_train,y_train,optimizer={'algo':'ga','N':50,'mutation':False,'max_iter':300,})\n",
    "training_score = lr.score(X_train,y_train)\n",
    "J = lr.cost_function_values\n",
    "testing_score = lr.score(X_test,y_test)\n",
    "print(\"Training score\",training_score)\n",
    "print(\"Testing score\",testing_score)\n",
    "plt.figure(figsize=(12,6))\n",
    "plt.grid()\n",
    "plt.ylabel('Cost function')\n",
    "plt.xlabel('Generation #')\n",
    "plt.plot(np.arange(len(J)),J,marker='o')"
   ]
  },
  {
   "cell_type": "markdown",
   "metadata": {},
   "source": [
    "### Differential Evolution"
   ]
  },
  {
   "cell_type": "code",
   "execution_count": null,
   "metadata": {},
   "outputs": [],
   "source": [
    "lr = models.LogisticRegression(2)\n",
    "lr.fit(X_train,y_train,optimizer={'algo':'de','N':50,'F':1.5,'CR':0.9,'max_iter':100})\n",
    "training_score = lr.score(X_train,y_train)\n",
    "J = lr.cost_function_values\n",
    "testing_score = lr.score(X_test,y_test)\n",
    "print(\"Training score\",training_score)\n",
    "print(\"Testing score\",testing_score)\n",
    "plt.figure(figsize=(12,6))\n",
    "plt.grid()\n",
    "plt.ylabel('Cost function')\n",
    "plt.xlabel('Generation #')\n",
    "plt.plot(np.arange(len(J)),J,marker='o')"
   ]
  },
  {
   "cell_type": "code",
   "execution_count": null,
   "metadata": {},
   "outputs": [],
   "source": []
  }
 ],
 "metadata": {
  "kernelspec": {
   "display_name": "Python 3",
   "language": "python",
   "name": "python3"
  },
  "language_info": {
   "codemirror_mode": {
    "name": "ipython",
    "version": 3
   },
   "file_extension": ".py",
   "mimetype": "text/x-python",
   "name": "python",
   "nbconvert_exporter": "python",
   "pygments_lexer": "ipython3",
   "version": "3.8.8"
  }
 },
 "nbformat": 4,
 "nbformat_minor": 4
}
